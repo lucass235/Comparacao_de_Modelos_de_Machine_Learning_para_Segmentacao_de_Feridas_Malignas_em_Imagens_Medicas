{
 "cells": [
  {
   "cell_type": "code",
   "execution_count": 1,
   "id": "d421aa17",
   "metadata": {},
   "outputs": [],
   "source": [
    "import os\n",
    "import sys\n",
    "module_path = os.path.abspath(os.path.join('..'))\n",
    "if module_path not in sys.path:\n",
    "    sys.path.append(module_path)"
   ]
  },
  {
   "cell_type": "code",
   "execution_count": 2,
   "id": "f15b61de",
   "metadata": {},
   "outputs": [],
   "source": [
    "\n",
    "from woundSegmentation.models.unets import Unet2D\n",
    "from woundSegmentation.models.deeplab import Deeplabv3\n",
    "from woundSegmentation.models.FCN import VGG_19\n",
    "from woundSegmentation.models.SegNet import SegNet\n",
    "\n",
    "from woundSegmentation.utils.learning.metrics import dice_coef, precision, recall\n",
    "from woundSegmentation.utils.learning.losses import dice_coef_loss\n",
    "from woundSegmentation.utils.io.data import DataGen, save_history\n",
    "\n",
    "from tensorflow.keras.optimizers import Adam\n",
    "from keras.callbacks import EarlyStopping\n",
    "\n",
    "import numpy as np\n",
    "import tensorflow as tf\n",
    "import tensorflow_model_optimization as tfmot\n",
    "\n",
    "import os\n",
    "import time\n",
    "\n",
    "%load_ext tensorboard"
   ]
  },
  {
   "cell_type": "code",
   "execution_count": 3,
   "id": "1f4520d7",
   "metadata": {},
   "outputs": [],
   "source": [
    "# Insira o modelo desejado\n",
    "modelName = \"mobilenetv2\"\n",
    "\n",
    "# Se o modelo é podado ou não\n",
    "prune = True"
   ]
  },
  {
   "cell_type": "code",
   "execution_count": 17,
   "id": "a14de875",
   "metadata": {},
   "outputs": [
    {
     "name": "stdout",
     "output_type": "stream",
     "text": [
      "Numero de GPUs disponiveis:  0\n"
     ]
    }
   ],
   "source": [
    "import os\n",
    "# Seleção do caminho\n",
    "if prune:\n",
    "    os.environ[\"CUDA_VISIBLE_DEVICES\"] = \"-1\"\n",
    "    \n",
    "print(\"Numero de GPUs disponiveis: \", len(tf.config.list_physical_devices('GPU')))"
   ]
  },
  {
   "cell_type": "code",
   "execution_count": 4,
   "id": "a6d2fc5f",
   "metadata": {},
   "outputs": [],
   "source": [
    "# Modelos disponiveis\n",
    "models = [\"fcn\", \"mobilenetv2\", \"segnet\", \"unet\"]\n",
    "\n",
    "\n",
    "# Seleção do caminho\n",
    "if prune:\n",
    "    dirPath = '../woundSegmentation/results_prune/'\n",
    "else:\n",
    "    dirPath = '../woundSegmentation/results/'\n",
    "\n",
    "# Criacao de arquivos\n",
    "isdir = os.path.isdir(dirPath)\n",
    "if not isdir:\n",
    "    os.mkdir(dirPath)\n",
    "    for i in range(len(models)):\n",
    "        os.mkdir(dirPath + models[i])\n",
    "        os.mkdir(dirPath + models[i] + \"/training_history/\")\n",
    "        os.mkdir(dirPath + models[i] + \"/datapredict/\")\n",
    "        \n",
    "modelDirPath = dirPath + modelName + \"/\""
   ]
  },
  {
   "cell_type": "code",
   "execution_count": 6,
   "id": "b7ac9872",
   "metadata": {},
   "outputs": [],
   "source": [
    "# Variaveis e gerador de dados\n",
    "input_dim_x = 224\n",
    "input_dim_y = 224\n",
    "n_filters = 32\n",
    "dataset = 'Foot Ulcer Segmentation Challenge'\n",
    "datasetpath = '../woundSegmentation/data/' + dataset\n",
    "#dataset= 'Medetec_foot_ulcer_224'\n",
    "data_gen = DataGen('../woundSegmentation/data/' + dataset + '/', split_ratio=0.2, x=input_dim_x, y=input_dim_y)"
   ]
  },
  {
   "cell_type": "code",
   "execution_count": 7,
   "id": "b55fb27a",
   "metadata": {},
   "outputs": [],
   "source": [
    "# Unet\n",
    "if (modelName == \"unet\"):\n",
    "    unet2d = Unet2D(n_filters=n_filters, input_dim_x=None, input_dim_y=None, num_channels=3)\n",
    "    model, model_name = unet2d.get_unet_model_yuanqing()\n",
    "    print(\"Modelo Unet Carregado!\")"
   ]
  },
  {
   "cell_type": "code",
   "execution_count": 8,
   "id": "0180d1af",
   "metadata": {},
   "outputs": [],
   "source": [
    "# SegNet\n",
    "if (modelName == \"segnet\"):\n",
    "    segNet = SegNet(n_filters=n_filters, input_dim_x=None, input_dim_y=None, num_channels=3)\n",
    "    model, model_name = segNet.get_SegNet()\n",
    "    print(\"Modelo Segnet Carregado!\")"
   ]
  },
  {
   "cell_type": "code",
   "execution_count": 9,
   "id": "b5e7bcc6",
   "metadata": {},
   "outputs": [
    {
     "name": "stdout",
     "output_type": "stream",
     "text": [
      "Modelo MobilenetV2 Carregado!\n"
     ]
    }
   ],
   "source": [
    "# MobilenetV2\n",
    "if (modelName == \"mobilenetv2\"):\n",
    "    model = Deeplabv3(input_shape=(input_dim_x, input_dim_y, 3), classes=1)\n",
    "    model_name = 'MobilenetV2'\n",
    "    print(\"Modelo MobilenetV2 Carregado!\")"
   ]
  },
  {
   "cell_type": "code",
   "execution_count": 10,
   "id": "37994cf9",
   "metadata": {},
   "outputs": [],
   "source": [
    "# FCN\n",
    "if (modelName == \"fcn\"):\n",
    "    model = VGG_19(input_shape=(input_dim_x, input_dim_y, 3))\n",
    "    model_name = 'FCN'\n",
    "    print(\"Modelo FCN Carregado!\")"
   ]
  },
  {
   "cell_type": "code",
   "execution_count": 11,
   "id": "23d0f338",
   "metadata": {},
   "outputs": [],
   "source": [
    "# Configuracoes de treinamento\n",
    "batch_size = 2\n",
    "epochs = 150\n",
    "learning_rate = 1e-4\n",
    "loss = 'binary_crossentropy'"
   ]
  },
  {
   "cell_type": "code",
   "execution_count": 12,
   "id": "240c2bea",
   "metadata": {},
   "outputs": [],
   "source": [
    "# Tecnica de poda\n",
    "if prune:\n",
    "    prune_low_magnitude = tfmot.sparsity.keras.prune_low_magnitude\n",
    "    \n",
    "    num_images = 810 * (1 - 0.2)\n",
    "    end_step = np.ceil(num_images / batch_size).astype(np.int32) * epochs\n",
    "    \n",
    "    pruning_params = {\n",
    "      'pruning_schedule': tfmot.sparsity.keras.PolynomialDecay(initial_sparsity=0.1, final_sparsity=0.90, begin_step=0, end_step=end_step)\n",
    "    }\n",
    "\n",
    "    model_pruned = prune_low_magnitude(model, **pruning_params)\n",
    "else:\n",
    "  print('Não será Podado!')    "
   ]
  },
  {
   "cell_type": "code",
   "execution_count": 13,
   "id": "c699a9b8",
   "metadata": {},
   "outputs": [],
   "source": [
    "# Cria o txt do resumo do modelo\n",
    "def printmodelsummary(s):\n",
    "    with open(modelDirPath + modelName + 'Modelsummary.txt','a') as f:\n",
    "        print(s, file=f)\n",
    "\n",
    "model_pruned.summary(print_fn=printmodelsummary)"
   ]
  },
  {
   "cell_type": "code",
   "execution_count": 14,
   "id": "6d2f5bff",
   "metadata": {},
   "outputs": [],
   "source": [
    "# callback\n",
    "if prune:\n",
    "    callbacks = [\n",
    "        EarlyStopping(monitor='val_dice_coef', patience=50, mode='max', restore_best_weights=True),\n",
    "        tfmot.sparsity.keras.UpdatePruningStep()\n",
    "    ]\n",
    "else:\n",
    "    callbacks = [\n",
    "        EarlyStopping(monitor='val_dice_coef', patience=50, mode='max', restore_best_weights=True)\n",
    "    ]"
   ]
  },
  {
   "cell_type": "code",
   "execution_count": 28,
   "id": "0e93734f",
   "metadata": {},
   "outputs": [
    {
     "name": "stderr",
     "output_type": "stream",
     "text": [
      "WARNING:absl:`lr` is deprecated in Keras optimizer, please use `learning_rate` or use the legacy optimizer, e.g.,tf.keras.optimizers.legacy.Adam.\n"
     ]
    },
    {
     "name": "stdout",
     "output_type": "stream",
     "text": [
      "Epoch 1/150\n"
     ]
    },
    {
     "name": "stderr",
     "output_type": "stream",
     "text": [
      "C:\\Users\\lucas\\AppData\\Local\\Temp\\ipykernel_23840\\1338192546.py:4: UserWarning: `Model.fit_generator` is deprecated and will be removed in a future version. Please use `Model.fit`, which supports generators.\n",
      "  training_history = model_pruned.fit_generator(data_gen.generate_data(batch_size=batch_size, train=True),\n"
     ]
    },
    {
     "name": "stdout",
     "output_type": "stream",
     "text": [
      "324/324 [==============================] - 162s 402ms/step - loss: 0.2512 - dice_coef: 0.0028 - precision: 0.0059 - recall: 0.0128 - val_loss: 0.2022 - val_dice_coef: 1.7122e-08 - val_precision: 0.0000e+00 - val_recall: 0.0000e+00\n",
      "Epoch 2/150\n",
      "324/324 [==============================] - 128s 394ms/step - loss: 0.1980 - dice_coef: 0.0057 - precision: 0.0148 - recall: 0.0025 - val_loss: 0.2021 - val_dice_coef: 1.7153e-08 - val_precision: 0.0000e+00 - val_recall: 0.0000e+00\n",
      "Epoch 3/150\n",
      "324/324 [==============================] - 129s 398ms/step - loss: 0.1977 - dice_coef: 0.0031 - precision: 0.0000e+00 - recall: 0.0000e+00 - val_loss: 0.2018 - val_dice_coef: 1.7148e-08 - val_precision: 0.0000e+00 - val_recall: 0.0000e+00\n",
      "Epoch 4/150\n",
      "324/324 [==============================] - 127s 393ms/step - loss: 0.1971 - dice_coef: 0.0048 - precision: 0.0039 - recall: 0.0013 - val_loss: 0.2022 - val_dice_coef: 1.7153e-08 - val_precision: 0.0000e+00 - val_recall: 0.0000e+00\n",
      "Epoch 5/150\n",
      "324/324 [==============================] - 126s 390ms/step - loss: 0.1958 - dice_coef: 0.0075 - precision: 0.0132 - recall: 0.0054 - val_loss: 0.2021 - val_dice_coef: 1.7153e-08 - val_precision: 0.0000e+00 - val_recall: 0.0000e+00\n",
      "Epoch 6/150\n",
      "324/324 [==============================] - 131s 406ms/step - loss: 0.1977 - dice_coef: 0.0031 - precision: 0.0000e+00 - recall: 0.0000e+00 - val_loss: 0.2021 - val_dice_coef: 1.7153e-08 - val_precision: 0.0000e+00 - val_recall: 0.0000e+00\n",
      "Epoch 7/150\n",
      "324/324 [==============================] - 129s 399ms/step - loss: 0.1977 - dice_coef: 0.0031 - precision: 0.0000e+00 - recall: 0.0000e+00 - val_loss: 0.2021 - val_dice_coef: 1.7153e-08 - val_precision: 0.0000e+00 - val_recall: 0.0000e+00\n",
      "Epoch 8/150\n",
      "324/324 [==============================] - 132s 407ms/step - loss: 0.1977 - dice_coef: 0.0031 - precision: 0.0000e+00 - recall: 0.0000e+00 - val_loss: 0.2021 - val_dice_coef: 1.7153e-08 - val_precision: 0.0000e+00 - val_recall: 0.0000e+00\n",
      "Epoch 9/150\n",
      "324/324 [==============================] - 129s 399ms/step - loss: 0.1977 - dice_coef: 0.0031 - precision: 0.0000e+00 - recall: 0.0000e+00 - val_loss: 0.2021 - val_dice_coef: 1.7153e-08 - val_precision: 0.0000e+00 - val_recall: 0.0000e+00\n",
      "Epoch 10/150\n",
      "324/324 [==============================] - 125s 386ms/step - loss: 0.1977 - dice_coef: 0.0031 - precision: 0.0000e+00 - recall: 0.0000e+00 - val_loss: 0.2021 - val_dice_coef: 1.7153e-08 - val_precision: 0.0000e+00 - val_recall: 0.0000e+00\n",
      "Epoch 11/150\n",
      "324/324 [==============================] - 126s 390ms/step - loss: 0.1977 - dice_coef: 0.0031 - precision: 0.0000e+00 - recall: 0.0000e+00 - val_loss: 0.2021 - val_dice_coef: 1.7153e-08 - val_precision: 0.0000e+00 - val_recall: 0.0000e+00\n",
      "Epoch 12/150\n",
      "324/324 [==============================] - 127s 391ms/step - loss: 0.1977 - dice_coef: 0.0031 - precision: 0.0000e+00 - recall: 0.0000e+00 - val_loss: 0.2021 - val_dice_coef: 1.7153e-08 - val_precision: 0.0000e+00 - val_recall: 0.0000e+00\n",
      "Epoch 13/150\n",
      "324/324 [==============================] - 126s 390ms/step - loss: 0.1977 - dice_coef: 0.0031 - precision: 6.8587e-04 - recall: 5.9184e-06 - val_loss: 0.2021 - val_dice_coef: 1.7153e-08 - val_precision: 0.0000e+00 - val_recall: 0.0000e+00\n",
      "Epoch 14/150\n",
      "324/324 [==============================] - 131s 404ms/step - loss: 0.1974 - dice_coef: 0.0054 - precision: 0.0053 - recall: 0.0019 - val_loss: 0.2021 - val_dice_coef: 1.7153e-08 - val_precision: 0.0000e+00 - val_recall: 0.0000e+00\n",
      "Epoch 15/150\n",
      "324/324 [==============================] - 127s 392ms/step - loss: 0.1977 - dice_coef: 0.0031 - precision: 0.0000e+00 - recall: 0.0000e+00 - val_loss: 0.2021 - val_dice_coef: 1.7153e-08 - val_precision: 0.0000e+00 - val_recall: 0.0000e+00\n",
      "Epoch 16/150\n",
      "324/324 [==============================] - 127s 392ms/step - loss: 0.1977 - dice_coef: 0.0031 - precision: 0.0000e+00 - recall: 0.0000e+00 - val_loss: 0.2021 - val_dice_coef: 1.7153e-08 - val_precision: 0.0000e+00 - val_recall: 0.0000e+00\n",
      "Epoch 17/150\n",
      "324/324 [==============================] - 128s 394ms/step - loss: 0.1976 - dice_coef: 0.0046 - precision: 0.0040 - recall: 0.0016 - val_loss: 0.2021 - val_dice_coef: 1.7153e-08 - val_precision: 0.0000e+00 - val_recall: 0.0000e+00\n",
      "Epoch 18/150\n",
      "324/324 [==============================] - 128s 396ms/step - loss: 0.1977 - dice_coef: 0.0031 - precision: 0.0000e+00 - recall: 0.0000e+00 - val_loss: 0.2020 - val_dice_coef: 1.7153e-08 - val_precision: 0.0000e+00 - val_recall: 0.0000e+00\n",
      "Epoch 19/150\n",
      "324/324 [==============================] - 129s 397ms/step - loss: 0.1977 - dice_coef: 0.0031 - precision: 0.0000e+00 - recall: 0.0000e+00 - val_loss: 0.2021 - val_dice_coef: 1.7153e-08 - val_precision: 0.0000e+00 - val_recall: 0.0000e+00\n",
      "Epoch 20/150\n",
      "324/324 [==============================] - 129s 397ms/step - loss: 0.1977 - dice_coef: 0.0031 - precision: 0.0000e+00 - recall: 0.0000e+00 - val_loss: 0.2021 - val_dice_coef: 1.7153e-08 - val_precision: 0.0000e+00 - val_recall: 0.0000e+00\n",
      "Epoch 21/150\n",
      "324/324 [==============================] - 130s 401ms/step - loss: 0.1977 - dice_coef: 0.0031 - precision: 0.0000e+00 - recall: 0.0000e+00 - val_loss: 0.2021 - val_dice_coef: 1.7153e-08 - val_precision: 0.0000e+00 - val_recall: 0.0000e+00\n",
      "Epoch 22/150\n",
      "324/324 [==============================] - 134s 414ms/step - loss: 0.1977 - dice_coef: 0.0031 - precision: 0.0000e+00 - recall: 0.0000e+00 - val_loss: 0.2021 - val_dice_coef: 1.7153e-08 - val_precision: 0.0000e+00 - val_recall: 0.0000e+00\n",
      "Epoch 23/150\n",
      "324/324 [==============================] - 131s 404ms/step - loss: 0.1977 - dice_coef: 0.0031 - precision: 0.0000e+00 - recall: 0.0000e+00 - val_loss: 0.2016 - val_dice_coef: 1.7153e-08 - val_precision: 0.0000e+00 - val_recall: 0.0000e+00\n",
      "Epoch 24/150\n",
      "324/324 [==============================] - 131s 406ms/step - loss: 0.1977 - dice_coef: 0.0031 - precision: 0.0000e+00 - recall: 0.0000e+00 - val_loss: 0.2020 - val_dice_coef: 1.7153e-08 - val_precision: 0.0000e+00 - val_recall: 0.0000e+00\n",
      "Epoch 25/150\n",
      "324/324 [==============================] - 132s 407ms/step - loss: 0.1977 - dice_coef: 0.0031 - precision: 0.0000e+00 - recall: 0.0000e+00 - val_loss: 0.2021 - val_dice_coef: 1.7153e-08 - val_precision: 0.0000e+00 - val_recall: 0.0000e+00\n",
      "Epoch 26/150\n",
      "324/324 [==============================] - 130s 403ms/step - loss: 0.1977 - dice_coef: 0.0031 - precision: 0.0000e+00 - recall: 0.0000e+00 - val_loss: 0.2021 - val_dice_coef: 1.7153e-08 - val_precision: 0.0000e+00 - val_recall: 0.0000e+00\n",
      "Epoch 27/150\n",
      "324/324 [==============================] - 146s 451ms/step - loss: 0.1977 - dice_coef: 0.0031 - precision: 0.0000e+00 - recall: 0.0000e+00 - val_loss: 0.2021 - val_dice_coef: 1.7153e-08 - val_precision: 0.0000e+00 - val_recall: 0.0000e+00\n",
      "Epoch 28/150\n",
      "324/324 [==============================] - 147s 455ms/step - loss: 0.1977 - dice_coef: 0.0031 - precision: 0.0000e+00 - recall: 0.0000e+00 - val_loss: 0.2021 - val_dice_coef: 1.7153e-08 - val_precision: 0.0000e+00 - val_recall: 0.0000e+00\n",
      "Epoch 29/150\n",
      "324/324 [==============================] - 146s 450ms/step - loss: 0.1986 - dice_coef: 0.0034 - precision: 2.9157e-04 - recall: 3.3062e-04 - val_loss: 0.2021 - val_dice_coef: 1.7153e-08 - val_precision: 0.0000e+00 - val_recall: 0.0000e+00\n",
      "Epoch 30/150\n",
      "324/324 [==============================] - 149s 461ms/step - loss: 0.1977 - dice_coef: 0.0031 - precision: 0.0000e+00 - recall: 0.0000e+00 - val_loss: 0.2021 - val_dice_coef: 1.7153e-08 - val_precision: 0.0000e+00 - val_recall: 0.0000e+00\n",
      "Epoch 31/150\n",
      "324/324 [==============================] - 142s 439ms/step - loss: 0.1977 - dice_coef: 0.0031 - precision: 0.0000e+00 - recall: 0.0000e+00 - val_loss: 0.2021 - val_dice_coef: 1.7153e-08 - val_precision: 0.0000e+00 - val_recall: 0.0000e+00\n",
      "Epoch 32/150\n",
      "324/324 [==============================] - 143s 441ms/step - loss: 0.1977 - dice_coef: 0.0031 - precision: 0.0000e+00 - recall: 0.0000e+00 - val_loss: 0.2021 - val_dice_coef: 1.7153e-08 - val_precision: 0.0000e+00 - val_recall: 0.0000e+00\n",
      "Epoch 33/150\n",
      "324/324 [==============================] - 143s 442ms/step - loss: 0.1977 - dice_coef: 0.0031 - precision: 0.0000e+00 - recall: 0.0000e+00 - val_loss: 0.2021 - val_dice_coef: 1.7153e-08 - val_precision: 0.0000e+00 - val_recall: 0.0000e+00\n",
      "Epoch 34/150\n",
      "324/324 [==============================] - 142s 437ms/step - loss: 0.1977 - dice_coef: 0.0031 - precision: 0.0000e+00 - recall: 0.0000e+00 - val_loss: 0.2021 - val_dice_coef: 1.7153e-08 - val_precision: 0.0000e+00 - val_recall: 0.0000e+00\n",
      "Epoch 35/150\n",
      "324/324 [==============================] - 141s 436ms/step - loss: 0.1977 - dice_coef: 0.0031 - precision: 0.0000e+00 - recall: 0.0000e+00 - val_loss: 0.2021 - val_dice_coef: 1.7153e-08 - val_precision: 0.0000e+00 - val_recall: 0.0000e+00\n",
      "Epoch 36/150\n",
      "324/324 [==============================] - 142s 439ms/step - loss: 0.1977 - dice_coef: 0.0031 - precision: 0.0000e+00 - recall: 0.0000e+00 - val_loss: 0.2021 - val_dice_coef: 1.7153e-08 - val_precision: 0.0000e+00 - val_recall: 0.0000e+00\n",
      "Epoch 37/150\n",
      "324/324 [==============================] - 142s 439ms/step - loss: 0.1977 - dice_coef: 0.0031 - precision: 0.0000e+00 - recall: 0.0000e+00 - val_loss: 0.2021 - val_dice_coef: 1.7153e-08 - val_precision: 0.0000e+00 - val_recall: 0.0000e+00\n",
      "Epoch 38/150\n",
      "324/324 [==============================] - 142s 437ms/step - loss: 0.1977 - dice_coef: 0.0031 - precision: 0.0000e+00 - recall: 0.0000e+00 - val_loss: 0.2021 - val_dice_coef: 1.7153e-08 - val_precision: 0.0000e+00 - val_recall: 0.0000e+00\n",
      "Epoch 39/150\n",
      "324/324 [==============================] - 142s 437ms/step - loss: 0.1977 - dice_coef: 0.0031 - precision: 0.0000e+00 - recall: 0.0000e+00 - val_loss: 0.2021 - val_dice_coef: 1.7153e-08 - val_precision: 0.0000e+00 - val_recall: 0.0000e+00\n",
      "Epoch 40/150\n",
      "324/324 [==============================] - 141s 435ms/step - loss: 0.1977 - dice_coef: 0.0031 - precision: 0.0000e+00 - recall: 0.0000e+00 - val_loss: 0.2021 - val_dice_coef: 1.7153e-08 - val_precision: 0.0000e+00 - val_recall: 0.0000e+00\n",
      "Epoch 41/150\n",
      "324/324 [==============================] - 142s 439ms/step - loss: 0.1977 - dice_coef: 0.0031 - precision: 0.0000e+00 - recall: 0.0000e+00 - val_loss: 0.2021 - val_dice_coef: 1.7153e-08 - val_precision: 0.0000e+00 - val_recall: 0.0000e+00\n",
      "Epoch 42/150\n",
      "324/324 [==============================] - 142s 438ms/step - loss: 0.1977 - dice_coef: 0.0031 - precision: 0.0000e+00 - recall: 0.0000e+00 - val_loss: 0.2021 - val_dice_coef: 1.7153e-08 - val_precision: 0.0000e+00 - val_recall: 0.0000e+00\n",
      "Epoch 43/150\n",
      "324/324 [==============================] - 142s 438ms/step - loss: 0.1977 - dice_coef: 0.0031 - precision: 0.0000e+00 - recall: 0.0000e+00 - val_loss: 0.2021 - val_dice_coef: 1.7153e-08 - val_precision: 0.0000e+00 - val_recall: 0.0000e+00\n",
      "Epoch 44/150\n",
      "324/324 [==============================] - 138s 426ms/step - loss: 0.1978 - dice_coef: 0.0031 - precision: 0.0000e+00 - recall: 0.0000e+00 - val_loss: 0.2021 - val_dice_coef: 1.7153e-08 - val_precision: 0.0000e+00 - val_recall: 0.0000e+00\n",
      "Epoch 45/150\n",
      "324/324 [==============================] - 120s 370ms/step - loss: 0.1977 - dice_coef: 0.0031 - precision: 0.0000e+00 - recall: 0.0000e+00 - val_loss: 0.2021 - val_dice_coef: 1.7153e-08 - val_precision: 0.0000e+00 - val_recall: 0.0000e+00\n",
      "Epoch 46/150\n",
      "324/324 [==============================] - 120s 371ms/step - loss: 0.1977 - dice_coef: 0.0031 - precision: 0.0000e+00 - recall: 0.0000e+00 - val_loss: 0.2346 - val_dice_coef: 0.0016 - val_precision: 8.4590e-04 - val_recall: 0.0126\n",
      "Epoch 47/150\n",
      "324/324 [==============================] - 120s 372ms/step - loss: 0.1977 - dice_coef: 0.0031 - precision: 0.0000e+00 - recall: 0.0000e+00 - val_loss: 0.2051 - val_dice_coef: 1.6976e-08 - val_precision: 0.0000e+00 - val_recall: 0.0000e+00\n",
      "Epoch 48/150\n",
      "324/324 [==============================] - 120s 371ms/step - loss: 0.1977 - dice_coef: 0.0031 - precision: 0.0000e+00 - recall: 0.0000e+00 - val_loss: 0.2049 - val_dice_coef: 1.7066e-08 - val_precision: 0.0000e+00 - val_recall: 0.0000e+00\n",
      "Epoch 49/150\n",
      "324/324 [==============================] - 121s 373ms/step - loss: 0.1977 - dice_coef: 0.0031 - precision: 0.0000e+00 - recall: 0.0000e+00 - val_loss: 0.1995 - val_dice_coef: 1.7153e-08 - val_precision: 0.0000e+00 - val_recall: 0.0000e+00\n",
      "Epoch 50/150\n",
      "324/324 [==============================] - 127s 394ms/step - loss: 0.1977 - dice_coef: 0.0031 - precision: 0.0000e+00 - recall: 0.0000e+00 - val_loss: 0.2021 - val_dice_coef: 1.7153e-08 - val_precision: 0.0000e+00 - val_recall: 0.0000e+00\n",
      "Epoch 51/150\n",
      "324/324 [==============================] - 127s 394ms/step - loss: 0.1977 - dice_coef: 0.0031 - precision: 0.0000e+00 - recall: 0.0000e+00 - val_loss: 0.2021 - val_dice_coef: 1.7153e-08 - val_precision: 0.0000e+00 - val_recall: 0.0000e+00\n",
      "Epoch 52/150\n",
      "324/324 [==============================] - 119s 366ms/step - loss: 0.1977 - dice_coef: 0.0031 - precision: 0.0000e+00 - recall: 0.0000e+00 - val_loss: 0.2021 - val_dice_coef: 1.7153e-08 - val_precision: 0.0000e+00 - val_recall: 0.0000e+00\n",
      "Epoch 53/150\n",
      "324/324 [==============================] - 116s 358ms/step - loss: 0.1977 - dice_coef: 0.0031 - precision: 0.0000e+00 - recall: 0.0000e+00 - val_loss: 0.2021 - val_dice_coef: 1.7153e-08 - val_precision: 0.0000e+00 - val_recall: 0.0000e+00\n",
      "Epoch 54/150\n",
      "324/324 [==============================] - 116s 359ms/step - loss: 0.1977 - dice_coef: 0.0031 - precision: 0.0000e+00 - recall: 0.0000e+00 - val_loss: 0.2021 - val_dice_coef: 1.7153e-08 - val_precision: 0.0000e+00 - val_recall: 0.0000e+00\n",
      "Epoch 55/150\n",
      "324/324 [==============================] - 119s 368ms/step - loss: 0.1977 - dice_coef: 0.0031 - precision: 0.0000e+00 - recall: 0.0000e+00 - val_loss: 0.2021 - val_dice_coef: 1.7153e-08 - val_precision: 0.0000e+00 - val_recall: 0.0000e+00\n",
      "Epoch 56/150\n",
      "324/324 [==============================] - 116s 357ms/step - loss: 0.1977 - dice_coef: 0.0031 - precision: 0.0000e+00 - recall: 0.0000e+00 - val_loss: 0.2021 - val_dice_coef: 1.7153e-08 - val_precision: 0.0000e+00 - val_recall: 0.0000e+00\n",
      "Epoch 57/150\n",
      "324/324 [==============================] - 117s 361ms/step - loss: 0.1977 - dice_coef: 0.0031 - precision: 0.0000e+00 - recall: 0.0000e+00 - val_loss: 0.2021 - val_dice_coef: 1.7153e-08 - val_precision: 0.0000e+00 - val_recall: 0.0000e+00\n",
      "Epoch 58/150\n",
      "324/324 [==============================] - 117s 362ms/step - loss: 0.1977 - dice_coef: 0.0031 - precision: 0.0000e+00 - recall: 0.0000e+00 - val_loss: 0.2021 - val_dice_coef: 1.7153e-08 - val_precision: 0.0000e+00 - val_recall: 0.0000e+00\n",
      "Epoch 59/150\n",
      "324/324 [==============================] - 117s 361ms/step - loss: 0.1977 - dice_coef: 0.0031 - precision: 0.0000e+00 - recall: 0.0000e+00 - val_loss: 0.2021 - val_dice_coef: 1.7153e-08 - val_precision: 0.0000e+00 - val_recall: 0.0000e+00\n",
      "Epoch 60/150\n",
      "324/324 [==============================] - 117s 360ms/step - loss: 0.1977 - dice_coef: 0.0031 - precision: 0.0000e+00 - recall: 0.0000e+00 - val_loss: 0.2021 - val_dice_coef: 1.7153e-08 - val_precision: 0.0000e+00 - val_recall: 0.0000e+00\n",
      "Epoch 61/150\n",
      "324/324 [==============================] - 116s 359ms/step - loss: 0.1977 - dice_coef: 0.0031 - precision: 0.0000e+00 - recall: 0.0000e+00 - val_loss: 0.2021 - val_dice_coef: 1.7153e-08 - val_precision: 0.0000e+00 - val_recall: 0.0000e+00\n",
      "Epoch 62/150\n",
      "324/324 [==============================] - 117s 360ms/step - loss: 0.1977 - dice_coef: 0.0031 - precision: 0.0000e+00 - recall: 0.0000e+00 - val_loss: 0.2021 - val_dice_coef: 1.7153e-08 - val_precision: 0.0000e+00 - val_recall: 0.0000e+00\n",
      "Epoch 63/150\n",
      "324/324 [==============================] - 116s 358ms/step - loss: 0.1977 - dice_coef: 0.0031 - precision: 0.0000e+00 - recall: 0.0000e+00 - val_loss: 0.2021 - val_dice_coef: 1.7153e-08 - val_precision: 0.0000e+00 - val_recall: 0.0000e+00\n",
      "Epoch 64/150\n",
      "324/324 [==============================] - 126s 388ms/step - loss: 0.1977 - dice_coef: 0.0031 - precision: 0.0000e+00 - recall: 0.0000e+00 - val_loss: 0.2021 - val_dice_coef: 1.7153e-08 - val_precision: 0.0000e+00 - val_recall: 0.0000e+00\n",
      "Epoch 65/150\n",
      "324/324 [==============================] - 118s 365ms/step - loss: 0.1977 - dice_coef: 0.0031 - precision: 0.0000e+00 - recall: 0.0000e+00 - val_loss: 0.2021 - val_dice_coef: 1.7153e-08 - val_precision: 0.0000e+00 - val_recall: 0.0000e+00\n",
      "Epoch 66/150\n",
      "324/324 [==============================] - 118s 363ms/step - loss: 0.1977 - dice_coef: 0.0031 - precision: 0.0000e+00 - recall: 0.0000e+00 - val_loss: 0.2021 - val_dice_coef: 1.7153e-08 - val_precision: 0.0000e+00 - val_recall: 0.0000e+00\n",
      "Epoch 67/150\n",
      "324/324 [==============================] - 117s 361ms/step - loss: 0.1977 - dice_coef: 0.0031 - precision: 0.0000e+00 - recall: 0.0000e+00 - val_loss: 0.2021 - val_dice_coef: 1.7153e-08 - val_precision: 0.0000e+00 - val_recall: 0.0000e+00\n",
      "Epoch 68/150\n",
      "324/324 [==============================] - 117s 361ms/step - loss: 0.1977 - dice_coef: 0.0031 - precision: 0.0000e+00 - recall: 0.0000e+00 - val_loss: 0.2021 - val_dice_coef: 1.7153e-08 - val_precision: 0.0000e+00 - val_recall: 0.0000e+00\n",
      "Epoch 69/150\n",
      "324/324 [==============================] - 117s 361ms/step - loss: 0.1977 - dice_coef: 0.0031 - precision: 0.0000e+00 - recall: 0.0000e+00 - val_loss: 0.2021 - val_dice_coef: 1.7153e-08 - val_precision: 0.0000e+00 - val_recall: 0.0000e+00\n",
      "Epoch 70/150\n",
      "324/324 [==============================] - 120s 369ms/step - loss: 0.1977 - dice_coef: 0.0031 - precision: 0.0000e+00 - recall: 0.0000e+00 - val_loss: 0.2021 - val_dice_coef: 1.7153e-08 - val_precision: 0.0000e+00 - val_recall: 0.0000e+00\n",
      "Epoch 71/150\n",
      "324/324 [==============================] - 139s 428ms/step - loss: 0.1977 - dice_coef: 0.0031 - precision: 0.0000e+00 - recall: 0.0000e+00 - val_loss: 0.2021 - val_dice_coef: 1.7153e-08 - val_precision: 0.0000e+00 - val_recall: 0.0000e+00\n",
      "Epoch 72/150\n",
      "324/324 [==============================] - 133s 409ms/step - loss: 0.1977 - dice_coef: 0.0031 - precision: 0.0000e+00 - recall: 0.0000e+00 - val_loss: 0.2021 - val_dice_coef: 1.7153e-08 - val_precision: 0.0000e+00 - val_recall: 0.0000e+00\n",
      "Epoch 73/150\n",
      "324/324 [==============================] - 129s 399ms/step - loss: 0.1977 - dice_coef: 0.0031 - precision: 0.0000e+00 - recall: 0.0000e+00 - val_loss: 0.2021 - val_dice_coef: 1.7153e-08 - val_precision: 0.0000e+00 - val_recall: 0.0000e+00\n",
      "Epoch 74/150\n",
      "324/324 [==============================] - 126s 390ms/step - loss: 0.1977 - dice_coef: 0.0031 - precision: 0.0000e+00 - recall: 0.0000e+00 - val_loss: 0.2021 - val_dice_coef: 1.7153e-08 - val_precision: 0.0000e+00 - val_recall: 0.0000e+00\n",
      "Epoch 75/150\n",
      "324/324 [==============================] - 135s 416ms/step - loss: 0.1977 - dice_coef: 0.0031 - precision: 0.0000e+00 - recall: 0.0000e+00 - val_loss: 0.2021 - val_dice_coef: 1.7153e-08 - val_precision: 0.0000e+00 - val_recall: 0.0000e+00\n",
      "Epoch 76/150\n",
      "324/324 [==============================] - 133s 410ms/step - loss: 0.1977 - dice_coef: 0.0031 - precision: 0.0000e+00 - recall: 0.0000e+00 - val_loss: 0.2021 - val_dice_coef: 1.7153e-08 - val_precision: 0.0000e+00 - val_recall: 0.0000e+00\n",
      "Epoch 77/150\n",
      "324/324 [==============================] - 133s 411ms/step - loss: 0.1977 - dice_coef: 0.0031 - precision: 0.0000e+00 - recall: 0.0000e+00 - val_loss: 0.2021 - val_dice_coef: 1.7153e-08 - val_precision: 0.0000e+00 - val_recall: 0.0000e+00\n",
      "Epoch 78/150\n",
      "324/324 [==============================] - 135s 416ms/step - loss: 0.1977 - dice_coef: 0.0031 - precision: 0.0000e+00 - recall: 0.0000e+00 - val_loss: 0.2021 - val_dice_coef: 1.7153e-08 - val_precision: 0.0000e+00 - val_recall: 0.0000e+00\n",
      "Epoch 79/150\n",
      "324/324 [==============================] - 129s 399ms/step - loss: 0.1977 - dice_coef: 0.0031 - precision: 0.0000e+00 - recall: 0.0000e+00 - val_loss: 0.2021 - val_dice_coef: 1.7153e-08 - val_precision: 0.0000e+00 - val_recall: 0.0000e+00\n",
      "Epoch 80/150\n",
      "324/324 [==============================] - 128s 395ms/step - loss: 0.1977 - dice_coef: 0.0031 - precision: 0.0000e+00 - recall: 0.0000e+00 - val_loss: 0.2021 - val_dice_coef: 1.7153e-08 - val_precision: 0.0000e+00 - val_recall: 0.0000e+00\n",
      "Epoch 81/150\n",
      "324/324 [==============================] - 122s 378ms/step - loss: 0.1977 - dice_coef: 0.0031 - precision: 0.0000e+00 - recall: 0.0000e+00 - val_loss: 0.2021 - val_dice_coef: 1.7153e-08 - val_precision: 0.0000e+00 - val_recall: 0.0000e+00\n",
      "Epoch 82/150\n",
      "324/324 [==============================] - 117s 362ms/step - loss: 0.1977 - dice_coef: 0.0031 - precision: 0.0000e+00 - recall: 0.0000e+00 - val_loss: 0.2021 - val_dice_coef: 1.7153e-08 - val_precision: 0.0000e+00 - val_recall: 0.0000e+00\n",
      "Epoch 83/150\n",
      "324/324 [==============================] - 117s 362ms/step - loss: 0.1977 - dice_coef: 0.0031 - precision: 0.0000e+00 - recall: 0.0000e+00 - val_loss: 0.2021 - val_dice_coef: 1.7153e-08 - val_precision: 0.0000e+00 - val_recall: 0.0000e+00\n",
      "Epoch 84/150\n",
      "324/324 [==============================] - 117s 363ms/step - loss: 0.1977 - dice_coef: 0.0031 - precision: 0.0000e+00 - recall: 0.0000e+00 - val_loss: 0.2021 - val_dice_coef: 1.7153e-08 - val_precision: 0.0000e+00 - val_recall: 0.0000e+00\n",
      "Epoch 85/150\n",
      "324/324 [==============================] - 117s 361ms/step - loss: 0.1977 - dice_coef: 0.0031 - precision: 0.0000e+00 - recall: 0.0000e+00 - val_loss: 0.2021 - val_dice_coef: 1.7153e-08 - val_precision: 0.0000e+00 - val_recall: 0.0000e+00\n",
      "Epoch 86/150\n",
      "324/324 [==============================] - 117s 362ms/step - loss: 0.1977 - dice_coef: 0.0031 - precision: 0.0000e+00 - recall: 0.0000e+00 - val_loss: 0.2021 - val_dice_coef: 1.7153e-08 - val_precision: 0.0000e+00 - val_recall: 0.0000e+00\n",
      "Epoch 87/150\n",
      "324/324 [==============================] - 117s 362ms/step - loss: 0.1977 - dice_coef: 0.0031 - precision: 0.0000e+00 - recall: 0.0000e+00 - val_loss: 0.2021 - val_dice_coef: 1.7153e-08 - val_precision: 0.0000e+00 - val_recall: 0.0000e+00\n",
      "Epoch 88/150\n",
      "324/324 [==============================] - 117s 361ms/step - loss: 0.1977 - dice_coef: 0.0031 - precision: 0.0000e+00 - recall: 0.0000e+00 - val_loss: 0.2021 - val_dice_coef: 1.7153e-08 - val_precision: 0.0000e+00 - val_recall: 0.0000e+00\n",
      "Epoch 89/150\n",
      "324/324 [==============================] - 117s 361ms/step - loss: 0.1977 - dice_coef: 0.0031 - precision: 0.0000e+00 - recall: 0.0000e+00 - val_loss: 0.2021 - val_dice_coef: 1.7153e-08 - val_precision: 0.0000e+00 - val_recall: 0.0000e+00\n",
      "Epoch 90/150\n",
      "324/324 [==============================] - 117s 362ms/step - loss: 0.1977 - dice_coef: 0.0031 - precision: 0.0000e+00 - recall: 0.0000e+00 - val_loss: 0.2021 - val_dice_coef: 1.7153e-08 - val_precision: 0.0000e+00 - val_recall: 0.0000e+00\n",
      "Epoch 91/150\n",
      "324/324 [==============================] - 117s 360ms/step - loss: 0.1977 - dice_coef: 0.0031 - precision: 0.0000e+00 - recall: 0.0000e+00 - val_loss: 0.2021 - val_dice_coef: 1.7153e-08 - val_precision: 0.0000e+00 - val_recall: 0.0000e+00\n",
      "Epoch 92/150\n",
      "324/324 [==============================] - 119s 367ms/step - loss: 0.1977 - dice_coef: 0.0031 - precision: 0.0000e+00 - recall: 0.0000e+00 - val_loss: 0.2021 - val_dice_coef: 1.7153e-08 - val_precision: 0.0000e+00 - val_recall: 0.0000e+00\n",
      "Epoch 93/150\n",
      "324/324 [==============================] - 123s 378ms/step - loss: 0.1977 - dice_coef: 0.0031 - precision: 0.0000e+00 - recall: 0.0000e+00 - val_loss: 0.2021 - val_dice_coef: 1.7153e-08 - val_precision: 0.0000e+00 - val_recall: 0.0000e+00\n",
      "Epoch 94/150\n",
      "324/324 [==============================] - 117s 361ms/step - loss: 0.1977 - dice_coef: 0.0031 - precision: 0.0000e+00 - recall: 0.0000e+00 - val_loss: 0.2021 - val_dice_coef: 1.7153e-08 - val_precision: 0.0000e+00 - val_recall: 0.0000e+00\n",
      "Epoch 95/150\n",
      "324/324 [==============================] - 117s 362ms/step - loss: 0.1977 - dice_coef: 0.0031 - precision: 0.0000e+00 - recall: 0.0000e+00 - val_loss: 0.2021 - val_dice_coef: 1.7153e-08 - val_precision: 0.0000e+00 - val_recall: 0.0000e+00\n",
      "Epoch 96/150\n",
      "324/324 [==============================] - 117s 361ms/step - loss: 0.1977 - dice_coef: 0.0031 - precision: 0.0000e+00 - recall: 0.0000e+00 - val_loss: 0.2021 - val_dice_coef: 1.7153e-08 - val_precision: 0.0000e+00 - val_recall: 0.0000e+00\n"
     ]
    }
   ],
   "source": [
    "# Treinamento\n",
    "start = time.time()\n",
    "model_pruned.compile(optimizer=Adam(lr=learning_rate), loss=loss, metrics=[dice_coef, precision, recall])\n",
    "training_history = model_pruned.fit_generator(data_gen.generate_data(batch_size=batch_size, train=True),\n",
    "                                       steps_per_epoch=int(data_gen.get_num_data_points(train=True) / batch_size),\n",
    "                                       callbacks=callbacks,\n",
    "                                       validation_data=data_gen.generate_data(batch_size=batch_size, val=True),\n",
    "                                       validation_steps=int(data_gen.get_num_data_points(val=True) / batch_size),\n",
    "                                       epochs=epochs)\n",
    "end = time.time()\n",
    "file = open(modelDirPath + modelName +\"Time.txt\", \"w\")\n",
    "file.write(\"Treinamento\\n\")\n",
    "file.write(str(end-start))\n",
    "file.close()"
   ]
  },
  {
   "cell_type": "code",
   "execution_count": 29,
   "id": "f19bf8d2",
   "metadata": {},
   "outputs": [
    {
     "name": "stdout",
     "output_type": "stream",
     "text": [
      "WARNING:tensorflow:Compiled the loaded model, but the compiled metrics have yet to be built. `model.compile_metrics` will be empty until you train or evaluate the model.\n"
     ]
    },
    {
     "name": "stderr",
     "output_type": "stream",
     "text": [
      "WARNING:tensorflow:Compiled the loaded model, but the compiled metrics have yet to be built. `model.compile_metrics` will be empty until you train or evaluate the model.\n"
     ]
    },
    {
     "data": {
      "image/png": "[encoded data removed]",
      "text/plain": [
       "<Figure size 640x480 with 1 Axes>"
      ]
     },
     "metadata": {},
     "output_type": "display_data"
    },
    {
     "data": {
      "text/plain": [
       "<Figure size 640x480 with 0 Axes>"
      ]
     },
     "metadata": {},
     "output_type": "display_data"
    }
   ],
   "source": [
    "# Salva o modelo e o historico de treinamento\n",
    "save_history(model, model_name, training_history, dataset, n_filters, epochs, learning_rate, loss, color_space='RGB',\n",
    "             path= modelDirPath + \"training_history/\", name= modelName + \"prunedmodelfile\")"
   ]
  }
 ],
 "metadata": {
  "kernelspec": {
   "display_name": "Python 3 (ipykernel)",
   "language": "python",
   "name": "python3"
  },
  "language_info": {
   "codemirror_mode": {
    "name": "ipython",
    "version": 3
   },
   "file_extension": ".py",
   "mimetype": "text/x-python",
   "name": "python",
   "nbconvert_exporter": "python",
   "pygments_lexer": "ipython3",
   "version": "3.8.10"
  }
 },
 "nbformat": 4,
 "nbformat_minor": 5
}
