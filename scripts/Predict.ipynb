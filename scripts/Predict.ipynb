{
 "cells": [
  {
   "cell_type": "code",
   "execution_count": 3,
   "id": "540c0fbb",
   "metadata": {},
   "outputs": [],
   "source": [
    "import os\n",
    "import sys\n",
    "module_path = os.path.abspath(os.path.join('..'))\n",
    "if module_path not in sys.path:\n",
    "    sys.path.append(module_path)"
   ]
  },
  {
   "cell_type": "code",
   "execution_count": 4,
   "id": "233fa52c",
   "metadata": {},
   "outputs": [],
   "source": [
    "import tensorflow as tf\n",
    "\n",
    "from keras.models import load_model\n",
    "\n",
    "from woundSegmentation.models.deeplab import relu6, DepthwiseConv2D, BilinearUpsampling\n",
    "from woundSegmentation.utils.learning.metrics import dice_coef, precision, recall\n",
    "from woundSegmentation.utils.io.data import DataGen, load_test_images, save_results\n",
    "\n",
    "import os\n",
    "\n",
    "import numpy as np\n",
    "\n",
    "from woundSegmentation.models.SegNet import SegNet\n",
    "\n",
    "import tensorflow_model_optimization as tfmot\n",
    "\n",
    "import time\n",
    "%load_ext tensorboard"
   ]
  },
  {
   "cell_type": "code",
   "execution_count": 2,
   "id": "f6f9c979",
   "metadata": {},
   "outputs": [
    {
     "name": "stdout",
     "output_type": "stream",
     "text": [
      "Numero de GPUs disponiveis:  0\n"
     ]
    }
   ],
   "source": [
    "# checa por GPU\n",
    "os.environ[\"CUDA_VISIBLE_DEVICES\"] = \"-1\"\n",
    "print(\"Numero de GPUs disponiveis: \", len(tf.config.list_physical_devices('GPU')))"
   ]
  },
  {
   "cell_type": "code",
   "execution_count": 6,
   "id": "75007ea8",
   "metadata": {},
   "outputs": [],
   "source": [
    "# Insira o modelo desejado\n",
    "modelName = \"mobilenetv2\"\n",
    "\n",
    "# Se o modelo é podado ou não\n",
    "prune = True"
   ]
  },
  {
   "cell_type": "code",
   "execution_count": 7,
   "id": "fcdf4fde",
   "metadata": {},
   "outputs": [],
   "source": [
    "# Modelos disponiveis\n",
    "models = [\"fcn\", \"mobilenetv2\", \"segnet\", \"unet\"]\n",
    "\n",
    "# Seleção do caminho\n",
    "if prune:\n",
    "    dirPath = '../woundSegmentation/results_prune/'\n",
    "else:\n",
    "    dirPath = '../woundSegmentation/results/'\n",
    "\n",
    "modelDirPath = dirPath + modelName + \"/\"\n",
    "\n",
    "# dataset\n",
    "dataset = 'Foot Ulcer Segmentation Challenge'"
   ]
  },
  {
   "cell_type": "code",
   "execution_count": 8,
   "id": "4c0fa0bf",
   "metadata": {},
   "outputs": [],
   "source": [
    "# tamanho das imagens de entrada\n",
    "input_dim_x = 224\n",
    "input_dim_y = 224"
   ]
  },
  {
   "cell_type": "code",
   "execution_count": 9,
   "id": "3b120438",
   "metadata": {},
   "outputs": [],
   "source": [
    "# Configuracao\n",
    "if prune:\n",
    "    weight_file_name = modelName + 'prunedmodelfile.hdf5'\n",
    "else:\n",
    "    weight_file_name = modelName + 'modelfile.hdf5'\n",
    "    \n",
    "color_space = 'rgb'\n",
    "pred_save_path = modelDirPath + 'datapredict/'\n",
    "path = '../woundSegmentation/data/' + dataset + '/'\n",
    "data_gen = DataGen(path, split_ratio=0.0, x=input_dim_x, y=input_dim_y, color_space=color_space)\n",
    "x_test, test_label_filenames_list = load_test_images(path)"
   ]
  },
  {
   "cell_type": "code",
   "execution_count": 10,
   "id": "81945aa3",
   "metadata": {},
   "outputs": [
    {
     "name": "stdout",
     "output_type": "stream",
     "text": [
      "WARNING:tensorflow:No training configuration found in the save file, so the model was *not* compiled. Compile it manually.\n"
     ]
    }
   ],
   "source": [
    "# Carrega o modelo\n",
    "model = load_model(modelDirPath + 'training_history/' + weight_file_name\n",
    "               , custom_objects={'recall':recall,\n",
    "                                 'precision':precision,\n",
    "                                 'dice_coef': dice_coef,\n",
    "                                 'relu6':relu6,\n",
    "                                 'DepthwiseConv2D':DepthwiseConv2D,\n",
    "                                 'BilinearUpsampling':BilinearUpsampling})"
   ]
  },
  {
   "cell_type": "code",
   "execution_count": 11,
   "id": "f94cb640",
   "metadata": {},
   "outputs": [
    {
     "name": "stdout",
     "output_type": "stream",
     "text": [
      "7/7 [==============================] - 10s 1s/step\n"
     ]
    }
   ],
   "source": [
    "# Inicia a predição\n",
    "start = time.time()\n",
    "for image_batch, label_batch in data_gen.generate_data(batch_size=len(x_test), test = True):\n",
    "    prediction = model.predict(image_batch, verbose=1)\n",
    "    save_results(prediction, 'rgb', pred_save_path, test_label_filenames_list)\n",
    "    break\n",
    "end = time.time()\n",
    "file = open(modelDirPath + modelName +\"TimePred.txt\", \"w\")\n",
    "file.write(\"\\n\")\n",
    "file.write(\"Predicao\\n\")\n",
    "file.write(str(end-start))\n",
    "file.close()"
   ]
  },
  {
   "cell_type": "code",
   "execution_count": 12,
   "id": "603a4f17",
   "metadata": {},
   "outputs": [
    {
     "name": "stdout",
     "output_type": "stream",
     "text": [
      "../woundSegmentation/results_prune/mobilenetv2/datapredict/\n"
     ]
    }
   ],
   "source": [
    "print(pred_save_path)"
   ]
  }
 ],
 "metadata": {
  "kernelspec": {
   "display_name": "Python 3 (ipykernel)",
   "language": "python",
   "name": "python3"
  },
  "language_info": {
   "codemirror_mode": {
    "name": "ipython",
    "version": 3
   },
   "file_extension": ".py",
   "mimetype": "text/x-python",
   "name": "python",
   "nbconvert_exporter": "python",
   "pygments_lexer": "ipython3",
   "version": "3.8.10"
  }
 },
 "nbformat": 4,
 "nbformat_minor": 5
}
